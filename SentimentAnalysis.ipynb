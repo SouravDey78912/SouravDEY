{
 "cells": [
  {
   "cell_type": "code",
   "execution_count": 5,
   "metadata": {},
   "outputs": [],
   "source": [
    "import re\n",
    "import pandas as pd \n",
    "import numpy as np \n",
    "import matplotlib.pyplot as plt \n",
    "\n",
    "import string\n",
    "import nltk\n",
    "\n"
   ]
  },
  {
   "cell_type": "code",
   "execution_count": 143,
   "metadata": {},
   "outputs": [],
   "source": [
    "combi=pd.read_csv(r'C:\\Users\\Sourav\\Desktop\\tweets.csv')\n"
   ]
  },
  {
   "cell_type": "code",
   "execution_count": 144,
   "metadata": {},
   "outputs": [
    {
     "name": "stdout",
     "output_type": "stream",
     "text": [
      "                 tweet_id airline_sentiment  airline_sentiment_confidence  \\\n",
      "0      570306133677760513           neutral                        1.0000   \n",
      "1      570301130888122368          positive                        0.3486   \n",
      "2      570301083672813571           neutral                        0.6837   \n",
      "3      570301031407624196          negative                        1.0000   \n",
      "4      570300817074462722          negative                        1.0000   \n",
      "5      570300767074181121          negative                        1.0000   \n",
      "6      570300616901320704          positive                        0.6745   \n",
      "7      570300248553349120           neutral                        0.6340   \n",
      "8      570299953286942721          positive                        0.6559   \n",
      "9      570295459631263746          positive                        1.0000   \n",
      "10     570294189143031808           neutral                        0.6769   \n",
      "11     570289724453216256          positive                        1.0000   \n",
      "12     570289584061480960          positive                        1.0000   \n",
      "13     570287408438120448          positive                        0.6451   \n",
      "14     570285904809598977          positive                        1.0000   \n",
      "15     570282469121007616          negative                        0.6842   \n",
      "16     570277724385734656          positive                        1.0000   \n",
      "17     570276917301137409          negative                        1.0000   \n",
      "18     570270684619923457          positive                        1.0000   \n",
      "19     570267956648792064          positive                        1.0000   \n",
      "20     570265883513384960          negative                        0.6705   \n",
      "21     570264145116819457          positive                        1.0000   \n",
      "22     570259420287868928          positive                        1.0000   \n",
      "23     570258822297579520           neutral                        1.0000   \n",
      "24     570256553502068736          negative                        1.0000   \n",
      "25     570249102404923392          negative                        1.0000   \n",
      "26     570239632807370753          negative                        1.0000   \n",
      "27     570217831557677057           neutral                        0.6854   \n",
      "28     570207886493782019          negative                        1.0000   \n",
      "29     570124596180955136           neutral                        0.6150   \n",
      "...                   ...               ...                           ...   \n",
      "14610  569591765793165312          negative                        1.0000   \n",
      "14611  569591730506371072           neutral                        1.0000   \n",
      "14612  569591700416393216          negative                        1.0000   \n",
      "14613  569591653121597440          negative                        1.0000   \n",
      "14614  569591540944756737          negative                        1.0000   \n",
      "14615  569591533617307648          negative                        1.0000   \n",
      "14616  569591393540288512          negative                        1.0000   \n",
      "14617  569591285150908416          positive                        1.0000   \n",
      "14618  569591136534319105          negative                        1.0000   \n",
      "14619  569590988395708416          positive                        1.0000   \n",
      "14620  569590965880532993          negative                        1.0000   \n",
      "14621  569590892085915649          negative                        1.0000   \n",
      "14622  569590191758962688          negative                        1.0000   \n",
      "14623  569590013278756865          positive                        0.6274   \n",
      "14624  569589959088173056          negative                        1.0000   \n",
      "14625  569589643487928321          positive                        1.0000   \n",
      "14626  569589460226183168          negative                        1.0000   \n",
      "14627  569588816438169600          negative                        1.0000   \n",
      "14628  569588651925098496          positive                        1.0000   \n",
      "14629  569588591602458624          negative                        1.0000   \n",
      "14630  569588473050611712          positive                        1.0000   \n",
      "14631  569588464896876545          negative                        1.0000   \n",
      "14632  569587813856841728           neutral                        0.6760   \n",
      "14633  569587705937600512          negative                        1.0000   \n",
      "14634  569587691626622976          negative                        0.6684   \n",
      "14635  569587686496825344          positive                        0.3487   \n",
      "14636  569587371693355008          negative                        1.0000   \n",
      "14637  569587242672398336           neutral                        1.0000   \n",
      "14638  569587188687634433          negative                        1.0000   \n",
      "14639  569587140490866689           neutral                        0.6771   \n",
      "\n",
      "               negativereason  negativereason_confidence         airline  \\\n",
      "0                         NaN                        NaN  Virgin America   \n",
      "1                         NaN                     0.0000  Virgin America   \n",
      "2                         NaN                        NaN  Virgin America   \n",
      "3                  Bad Flight                     0.7033  Virgin America   \n",
      "4                  Can't Tell                     1.0000  Virgin America   \n",
      "5                  Can't Tell                     0.6842  Virgin America   \n",
      "6                         NaN                     0.0000  Virgin America   \n",
      "7                         NaN                        NaN  Virgin America   \n",
      "8                         NaN                        NaN  Virgin America   \n",
      "9                         NaN                        NaN  Virgin America   \n",
      "10                        NaN                     0.0000  Virgin America   \n",
      "11                        NaN                        NaN  Virgin America   \n",
      "12                        NaN                        NaN  Virgin America   \n",
      "13                        NaN                        NaN  Virgin America   \n",
      "14                        NaN                        NaN  Virgin America   \n",
      "15                Late Flight                     0.3684  Virgin America   \n",
      "16                        NaN                        NaN  Virgin America   \n",
      "17                 Bad Flight                     1.0000  Virgin America   \n",
      "18                        NaN                        NaN  Virgin America   \n",
      "19                        NaN                        NaN  Virgin America   \n",
      "20                 Can't Tell                     0.3614  Virgin America   \n",
      "21                        NaN                        NaN  Virgin America   \n",
      "22                        NaN                        NaN  Virgin America   \n",
      "23                        NaN                        NaN  Virgin America   \n",
      "24     Customer Service Issue                     0.3557  Virgin America   \n",
      "25     Customer Service Issue                     1.0000  Virgin America   \n",
      "26                 Can't Tell                     0.6614  Virgin America   \n",
      "27                        NaN                        NaN  Virgin America   \n",
      "28                 Bad Flight                     1.0000  Virgin America   \n",
      "29                        NaN                     0.0000  Virgin America   \n",
      "...                       ...                        ...             ...   \n",
      "14610               longlines                     0.6788        American   \n",
      "14611                     NaN                        NaN        American   \n",
      "14612        Cancelled Flight                     0.6333        American   \n",
      "14613  Customer Service Issue                     0.7255        American   \n",
      "14614  Customer Service Issue                     1.0000        American   \n",
      "14615        Cancelled Flight                     1.0000        American   \n",
      "14616        Cancelled Flight                     1.0000        American   \n",
      "14617                     NaN                        NaN        American   \n",
      "14618              Bad Flight                     0.6774        American   \n",
      "14619                     NaN                        NaN        American   \n",
      "14620  Customer Service Issue                     1.0000        American   \n",
      "14621  Customer Service Issue                     1.0000        American   \n",
      "14622             Late Flight                     0.3358        American   \n",
      "14623                     NaN                     0.0000        American   \n",
      "14624              Can't Tell                     1.0000        American   \n",
      "14625                     NaN                        NaN        American   \n",
      "14626             Late Flight                     1.0000        American   \n",
      "14627        Cancelled Flight                     1.0000        American   \n",
      "14628                     NaN                        NaN        American   \n",
      "14629  Customer Service Issue                     1.0000        American   \n",
      "14630                     NaN                        NaN        American   \n",
      "14631              Bad Flight                     1.0000        American   \n",
      "14632                     NaN                     0.0000        American   \n",
      "14633        Cancelled Flight                     1.0000        American   \n",
      "14634             Late Flight                     0.6684        American   \n",
      "14635                     NaN                     0.0000        American   \n",
      "14636  Customer Service Issue                     1.0000        American   \n",
      "14637                     NaN                        NaN        American   \n",
      "14638  Customer Service Issue                     0.6659        American   \n",
      "14639                     NaN                     0.0000        American   \n",
      "\n",
      "      airline_sentiment_gold             name negativereason_gold  \\\n",
      "0                        NaN          cairdin                 NaN   \n",
      "1                        NaN         jnardino                 NaN   \n",
      "2                        NaN       yvonnalynn                 NaN   \n",
      "3                        NaN         jnardino                 NaN   \n",
      "4                        NaN         jnardino                 NaN   \n",
      "5                        NaN         jnardino                 NaN   \n",
      "6                        NaN       cjmcginnis                 NaN   \n",
      "7                        NaN            pilot                 NaN   \n",
      "8                        NaN         dhepburn                 NaN   \n",
      "9                        NaN       YupitsTate                 NaN   \n",
      "10                       NaN  idk_but_youtube                 NaN   \n",
      "11                       NaN     HyperCamiLax                 NaN   \n",
      "12                       NaN     HyperCamiLax                 NaN   \n",
      "13                       NaN     mollanderson                 NaN   \n",
      "14                       NaN         sjespers                 NaN   \n",
      "15                       NaN  smartwatermelon                 NaN   \n",
      "16                       NaN    ItzBrianHunty                 NaN   \n",
      "17                       NaN    heatherovieda                 NaN   \n",
      "18                       NaN     thebrandiray                 NaN   \n",
      "19                       NaN        JNLpierce                 NaN   \n",
      "20                       NaN           MISSGJ                 NaN   \n",
      "21                       NaN           DT_Les                 NaN   \n",
      "22                       NaN       ElvinaBeck                 NaN   \n",
      "23                       NaN     rjlynch21086                 NaN   \n",
      "24                       NaN      ayeevickiee                 NaN   \n",
      "25                       NaN          Leora13                 NaN   \n",
      "26                       NaN    meredithjlynn                 NaN   \n",
      "27                       NaN       AdamSinger                 NaN   \n",
      "28                       NaN  blackjackpro911                 NaN   \n",
      "29                       NaN  TenantsUpstairs                 NaN   \n",
      "...                      ...              ...                 ...   \n",
      "14610                    NaN         Jess_JCW                 NaN   \n",
      "14611                    NaN      TrueChief77                 NaN   \n",
      "14612                    NaN    tcunningham10                 NaN   \n",
      "14613                    NaN     kiabeveridge                 NaN   \n",
      "14614                    NaN         GregPoos                 NaN   \n",
      "14615                    NaN       tim_sheehy                 NaN   \n",
      "14616                    NaN    TheJoshAbides                 NaN   \n",
      "14617                    NaN          iambmac                 NaN   \n",
      "14618                    NaN  A_for_AdNauseam                 NaN   \n",
      "14619                    NaN      howiemandel                 NaN   \n",
      "14620                    NaN         KCBobolz                 NaN   \n",
      "14621                    NaN      andyellwood                 NaN   \n",
      "14622                    NaN    Jill_Lynnette                 NaN   \n",
      "14623                    NaN   Flora_Lola_NYC                 NaN   \n",
      "14624                    NaN         yourlama                 NaN   \n",
      "14625                    NaN   DrCaseyJRudkin                 NaN   \n",
      "14626                    NaN       cataattack                 NaN   \n",
      "14627                    NaN   KristinaMeyer7                 NaN   \n",
      "14628                    NaN         jlhalldc                 NaN   \n",
      "14629                    NaN      jontgreen89                 NaN   \n",
      "14630                    NaN   Laurelinesblog                 NaN   \n",
      "14631                    NaN         MDDavis7                 NaN   \n",
      "14632                    NaN       Chad_SMFYM                 NaN   \n",
      "14633                    NaN  RussellsWriting                 NaN   \n",
      "14634                    NaN    GolfWithWoody                 NaN   \n",
      "14635                    NaN  KristenReenders                 NaN   \n",
      "14636                    NaN         itsropes                 NaN   \n",
      "14637                    NaN         sanyabun                 NaN   \n",
      "14638                    NaN       SraJackson                 NaN   \n",
      "14639                    NaN        daviddtwu                 NaN   \n",
      "\n",
      "       retweet_count                                               text  \\\n",
      "0                  0                @VirginAmerica What @dhepburn said.   \n",
      "1                  0  @VirginAmerica plus you've added commercials t...   \n",
      "2                  0  @VirginAmerica I didn't today... Must mean I n...   \n",
      "3                  0  @VirginAmerica it's really aggressive to blast...   \n",
      "4                  0  @VirginAmerica and it's a really big bad thing...   \n",
      "5                  0  @VirginAmerica seriously would pay $30 a fligh...   \n",
      "6                  0  @VirginAmerica yes, nearly every time I fly VX...   \n",
      "7                  0  @VirginAmerica Really missed a prime opportuni...   \n",
      "8                  0    @virginamerica Well, I didn't…but NOW I DO! :-D   \n",
      "9                  0  @VirginAmerica it was amazing, and arrived an ...   \n",
      "10                 0  @VirginAmerica did you know that suicide is th...   \n",
      "11                 0  @VirginAmerica I &lt;3 pretty graphics. so muc...   \n",
      "12                 0  @VirginAmerica This is such a great deal! Alre...   \n",
      "13                 0  @VirginAmerica @virginmedia I'm flying your #f...   \n",
      "14                 0                             @VirginAmerica Thanks!   \n",
      "15                 0      @VirginAmerica SFO-PDX schedule is still MIA.   \n",
      "16                 0  @VirginAmerica So excited for my first cross c...   \n",
      "17                 0  @VirginAmerica  I flew from NYC to SFO last we...   \n",
      "18                 0                    I ❤️ flying @VirginAmerica. ☺️👍   \n",
      "19                 0  @VirginAmerica you know what would be amazingl...   \n",
      "20                 0  @VirginAmerica why are your first fares in May...   \n",
      "21                 0  @VirginAmerica I love this graphic. http://t.c...   \n",
      "22                 0  @VirginAmerica I love the hipster innovation. ...   \n",
      "23                 0  @VirginAmerica will you be making BOS&gt;LAS n...   \n",
      "24                 0  @VirginAmerica you guys messed up my seating.....   \n",
      "25                 0  @VirginAmerica status match program.  I applie...   \n",
      "26                 0  @VirginAmerica What happened 2 ur vegan food o...   \n",
      "27                 0  @VirginAmerica do you miss me? Don't worry we'...   \n",
      "28                 0  @VirginAmerica amazing to me that we can't get...   \n",
      "29                 0  @VirginAmerica LAX to EWR - Middle seat on a r...   \n",
      "...              ...                                                ...   \n",
      "14610              0  @AmericanAir I understand the weather issue bu...   \n",
      "14611              0  @AmericanAir guarantee no retribution? If so, ...   \n",
      "14612              0  @AmericanAir a friend is having flight Cancell...   \n",
      "14613              0  @AmericanAir I used the \"call back\" feature wi...   \n",
      "14614              0  @AmericanAir I need to be at work tomorrow at ...   \n",
      "14615              0  @AmericanAir  ugh Dump us in dfw w/no luggage ...   \n",
      "14616              0  @AmericanAir Cancelled Flights my flight, does...   \n",
      "14617              0            @AmericanAir DMing you now! Big thanks.   \n",
      "14618              0  @AmericanAir 3078 is overweight so you pull 2 ...   \n",
      "14619              3  @AmericanAir I love your company and your staf...   \n",
      "14620              0  @AmericanAir I wait 2+ hrs for CS to call me b...   \n",
      "14621              0  @AmericanAir I've been on hold for 55 mins abo...   \n",
      "14622              0  I just need a place to sleep when I land witho...   \n",
      "14623              0  @AmericanAir Love the new planes for the JFK-L...   \n",
      "14624              0  @AmericanAir Call me Chairman, or call me Emer...   \n",
      "14625              0  @AmericanAir Flight 236 was great. Fantastic c...   \n",
      "14626              0  @AmericanAir Flight 953 NYC-Buenos Aires has b...   \n",
      "14627              0  @AmericanAir Flight Cancelled Flightled, can't...   \n",
      "14628              0  Thank you. “@AmericanAir: @jlhalldc Customer R...   \n",
      "14629              0  @AmericanAir How do I change my flight if the ...   \n",
      "14630              0                        @AmericanAir Thanks! He is.   \n",
      "14631              0  @AmericanAir thx for nothing on getting us out...   \n",
      "14632              0  “@AmericanAir: @TilleyMonsta George, that does...   \n",
      "14633              0  @AmericanAir my flight was Cancelled Flightled...   \n",
      "14634              0         @AmericanAir right on cue with the delays👌   \n",
      "14635              0  @AmericanAir thank you we got on a different f...   \n",
      "14636              0  @AmericanAir leaving over 20 minutes Late Flig...   \n",
      "14637              0  @AmericanAir Please bring American Airlines to...   \n",
      "14638              0  @AmericanAir you have my money, you change my ...   \n",
      "14639              0  @AmericanAir we have 8 ppl so we need 2 know h...   \n",
      "\n",
      "                       tweet_coord              tweet_created  \\\n",
      "0                              NaN  2015-02-24 11:35:52 -0800   \n",
      "1                              NaN  2015-02-24 11:15:59 -0800   \n",
      "2                              NaN  2015-02-24 11:15:48 -0800   \n",
      "3                              NaN  2015-02-24 11:15:36 -0800   \n",
      "4                              NaN  2015-02-24 11:14:45 -0800   \n",
      "5                              NaN  2015-02-24 11:14:33 -0800   \n",
      "6                              NaN  2015-02-24 11:13:57 -0800   \n",
      "7                              NaN  2015-02-24 11:12:29 -0800   \n",
      "8                              NaN  2015-02-24 11:11:19 -0800   \n",
      "9                              NaN  2015-02-24 10:53:27 -0800   \n",
      "10                             NaN  2015-02-24 10:48:24 -0800   \n",
      "11                             NaN  2015-02-24 10:30:40 -0800   \n",
      "12                             NaN  2015-02-24 10:30:06 -0800   \n",
      "13                             NaN  2015-02-24 10:21:28 -0800   \n",
      "14                             NaN  2015-02-24 10:15:29 -0800   \n",
      "15                             NaN  2015-02-24 10:01:50 -0800   \n",
      "16                             NaN  2015-02-24 09:42:59 -0800   \n",
      "17                             NaN  2015-02-24 09:39:46 -0800   \n",
      "18                             NaN  2015-02-24 09:15:00 -0800   \n",
      "19                             NaN  2015-02-24 09:04:10 -0800   \n",
      "20                             NaN  2015-02-24 08:55:56 -0800   \n",
      "21     [40.74804263, -73.99295302]  2015-02-24 08:49:01 -0800   \n",
      "22                             NaN  2015-02-24 08:30:15 -0800   \n",
      "23                             NaN  2015-02-24 08:27:52 -0800   \n",
      "24                             NaN  2015-02-24 08:18:51 -0800   \n",
      "25                             NaN  2015-02-24 07:49:15 -0800   \n",
      "26                             NaN  2015-02-24 07:11:37 -0800   \n",
      "27                             NaN  2015-02-24 05:44:59 -0800   \n",
      "28       [42.361016, -71.02000488]  2015-02-24 05:05:28 -0800   \n",
      "29     [33.94540417, -118.4062472]  2015-02-23 23:34:30 -0800   \n",
      "...                            ...                        ...   \n",
      "14610                          NaN  2015-02-22 12:17:14 -0800   \n",
      "14611                          NaN  2015-02-22 12:17:05 -0800   \n",
      "14612  [40.46692522, -82.64567078]  2015-02-22 12:16:58 -0800   \n",
      "14613                          NaN  2015-02-22 12:16:47 -0800   \n",
      "14614                          NaN  2015-02-22 12:16:20 -0800   \n",
      "14615                          NaN  2015-02-22 12:16:18 -0800   \n",
      "14616                          NaN  2015-02-22 12:15:45 -0800   \n",
      "14617                          NaN  2015-02-22 12:15:19 -0800   \n",
      "14618                          NaN  2015-02-22 12:14:44 -0800   \n",
      "14619                          NaN  2015-02-22 12:14:08 -0800   \n",
      "14620                          NaN  2015-02-22 12:14:03 -0800   \n",
      "14621                          NaN  2015-02-22 12:13:45 -0800   \n",
      "14622                          NaN  2015-02-22 12:10:58 -0800   \n",
      "14623                          NaN  2015-02-22 12:10:16 -0800   \n",
      "14624   [32.9070889, -97.03785947]  2015-02-22 12:10:03 -0800   \n",
      "14625  [40.64946781, -73.76624703]  2015-02-22 12:08:48 -0800   \n",
      "14626                          NaN  2015-02-22 12:08:04 -0800   \n",
      "14627                          NaN  2015-02-22 12:05:30 -0800   \n",
      "14628                          NaN  2015-02-22 12:04:51 -0800   \n",
      "14629                          NaN  2015-02-22 12:04:37 -0800   \n",
      "14630                          NaN  2015-02-22 12:04:09 -0800   \n",
      "14631                          NaN  2015-02-22 12:04:07 -0800   \n",
      "14632                          NaN  2015-02-22 12:01:31 -0800   \n",
      "14633                          NaN  2015-02-22 12:01:06 -0800   \n",
      "14634                          NaN  2015-02-22 12:01:02 -0800   \n",
      "14635                          NaN  2015-02-22 12:01:01 -0800   \n",
      "14636                          NaN  2015-02-22 11:59:46 -0800   \n",
      "14637                          NaN  2015-02-22 11:59:15 -0800   \n",
      "14638                          NaN  2015-02-22 11:59:02 -0800   \n",
      "14639                          NaN  2015-02-22 11:58:51 -0800   \n",
      "\n",
      "                      tweet_location                user_timezone  \n",
      "0                                NaN   Eastern Time (US & Canada)  \n",
      "1                                NaN   Pacific Time (US & Canada)  \n",
      "2                          Lets Play   Central Time (US & Canada)  \n",
      "3                                NaN   Pacific Time (US & Canada)  \n",
      "4                                NaN   Pacific Time (US & Canada)  \n",
      "5                                NaN   Pacific Time (US & Canada)  \n",
      "6                   San Francisco CA   Pacific Time (US & Canada)  \n",
      "7                        Los Angeles   Pacific Time (US & Canada)  \n",
      "8                          San Diego   Pacific Time (US & Canada)  \n",
      "9                        Los Angeles   Eastern Time (US & Canada)  \n",
      "10                   1/1 loner squad   Eastern Time (US & Canada)  \n",
      "11                               NYC             America/New_York  \n",
      "12                               NYC             America/New_York  \n",
      "13                               NaN   Eastern Time (US & Canada)  \n",
      "14                 San Francisco, CA   Pacific Time (US & Canada)  \n",
      "15                     palo alto, ca   Pacific Time (US & Canada)  \n",
      "16                       west covina   Pacific Time (US & Canada)  \n",
      "17             this place called NYC   Eastern Time (US & Canada)  \n",
      "18      Somewhere celebrating life.        Atlantic Time (Canada)  \n",
      "19                  Boston | Waltham                        Quito  \n",
      "20                               NaN                          NaN  \n",
      "21                               NaN                          NaN  \n",
      "22                       Los Angeles   Pacific Time (US & Canada)  \n",
      "23                       Boston, MA    Eastern Time (US & Canada)  \n",
      "24                               714  Mountain Time (US & Canada)  \n",
      "25                               NaN                          NaN  \n",
      "26                               NaN                          NaN  \n",
      "27                 San Francisco, CA   Central Time (US & Canada)  \n",
      "28     San Mateo, CA & Las Vegas, NV                          NaN  \n",
      "29                          Brooklyn       Atlantic Time (Canada)  \n",
      "...                              ...                          ...  \n",
      "14610                         London                       London  \n",
      "14611                   970 Colorado                          NaN  \n",
      "14612                   Central Ohio   Eastern Time (US & Canada)  \n",
      "14613                        Chicago  Mountain Time (US & Canada)  \n",
      "14614                            NaN                          NaN  \n",
      "14615                  Washington DC   Central Time (US & Canada)  \n",
      "14616                  New York City   Eastern Time (US & Canada)  \n",
      "14617              Columbus, OH, USA   Eastern Time (US & Canada)  \n",
      "14618                            NaN                          NaN  \n",
      "14619                            NaN   Pacific Time (US & Canada)  \n",
      "14620    Milwaukee County, Wisconsin   Central Time (US & Canada)  \n",
      "14621             New York, New York   Eastern Time (US & Canada)  \n",
      "14622                            NaN   Eastern Time (US & Canada)  \n",
      "14623                            NaN   Eastern Time (US & Canada)  \n",
      "14624                            NaN                          NaN  \n",
      "14625                     East Coast                          NaN  \n",
      "14626        Buenos Aires, Argentina                 Buenos Aires  \n",
      "14627                            NaN   Eastern Time (US & Canada)  \n",
      "14628                 Washington, DC   Eastern Time (US & Canada)  \n",
      "14629                       Waco, TX   Central Time (US & Canada)  \n",
      "14630                Chapel Hill, NC                          NaN  \n",
      "14631                             US   Eastern Time (US & Canada)  \n",
      "14632                            NaN   Central Time (US & Canada)  \n",
      "14633                    Los Angeles                      Arizona  \n",
      "14634                            NaN                        Quito  \n",
      "14635                            NaN                          NaN  \n",
      "14636                          Texas                          NaN  \n",
      "14637                  Nigeria,lagos                          NaN  \n",
      "14638                     New Jersey   Eastern Time (US & Canada)  \n",
      "14639                     dallas, TX                          NaN  \n",
      "\n",
      "[14640 rows x 15 columns]\n"
     ]
    }
   ],
   "source": [
    "print(combi)"
   ]
  },
  {
   "cell_type": "code",
   "execution_count": 145,
   "metadata": {},
   "outputs": [],
   "source": [
    "def remove_pattern(input_txt, pattern):\n",
    "    r = re.findall(pattern, input_txt)\n",
    "    for i in r:\n",
    "        input_txt = re.sub(i, '', input_txt)\n",
    "        \n",
    "    return input_txt   "
   ]
  },
  {
   "cell_type": "code",
   "execution_count": 147,
   "metadata": {},
   "outputs": [],
   "source": [
    "# remove twitter handles (@user)\n",
    "combi['tidy_tweet'] = np.vectorize(remove_pattern)(combi['text'], \"@[\\w]*\")"
   ]
  },
  {
   "cell_type": "code",
   "execution_count": 153,
   "metadata": {},
   "outputs": [
    {
     "name": "stdout",
     "output_type": "stream",
     "text": [
      "0                                              What  said \n",
      "1         plus you ve added commercials to the experien...\n",
      "2         I didn t today    Must mean I need to take an...\n",
      "3         it s really aggressive to blast obnoxious  en...\n",
      "4                 and it s a really big bad thing about it\n",
      "5         seriously would pay     a flight for seats th...\n",
      "6         yes  nearly every time I fly VX this  ear wor...\n",
      "7         Really missed a prime opportunity for Men Wit...\n",
      "8                         Well  I didn t but NOW I DO    D\n",
      "9         it was amazing  and arrived an hour early  Yo...\n",
      "10        did you know that suicide is the second leadi...\n",
      "11        I  lt   pretty graphics  so much better than ...\n",
      "12        This is such a great deal  Already thinking a...\n",
      "13         I m flying your #fabulous #Seductive skies a...\n",
      "14                                                 Thanks \n",
      "15                          SFO PDX schedule is still MIA \n",
      "16        So excited for my first cross country flight ...\n",
      "17         I flew from NYC to SFO last week and couldn ...\n",
      "18                                       I    flying      \n",
      "19        you know what would be amazingly awesome  BOS...\n",
      "20        why are your first fares in May over three ti...\n",
      "21             I love this graphic  http   t co UT GrRwAaA\n",
      "22        I love the hipster innovation  You are a feel...\n",
      "23        will you be making BOS gt LAS non stop perman...\n",
      "24        you guys messed up my seating   I reserved se...\n",
      "25        status match program   I applied and it s bee...\n",
      "26        What happened   ur vegan food options   At le...\n",
      "27        do you miss me  Don t worry we ll be together...\n",
      "28        amazing to me that we can t get any cold air ...\n",
      "29        LAX to EWR   Middle seat on a red eye  Such a...\n",
      "                               ...                        \n",
      "14610     I understand the weather issue but you can t ...\n",
      "14611     guarantee no retribution  If so  I d be glad ...\n",
      "14612     a friend is having flight Cancelled Flightlat...\n",
      "14613     I used the  call back  feature with an operat...\n",
      "14614     I need to be at work tomorrow at  am  therefo...\n",
      "14615      ugh Dump us in dfw w no luggage then Cancell...\n",
      "14616     Cancelled Flights my flight  doesn t send an ...\n",
      "14617                           DMing you now  Big thanks \n",
      "14618          is overweight so you pull   dozen passen...\n",
      "14619     I love your company and your staff is amazing...\n",
      "14620     I wait    hrs for CS to call me back re why  ...\n",
      "14621     I ve been on hold for    mins about my Cancel...\n",
      "14622    I just need a place to sleep when I land witho...\n",
      "14623     Love the new planes for the JFK LAX run   May...\n",
      "14624     Call me Chairman  or call me Emerald  After w...\n",
      "14625     Flight     was great  Fantastic cabin crew  A...\n",
      "14626     Flight     NYC Buenos Aires has been delay si...\n",
      "14627     Flight Cancelled Flightled  can t go home unt...\n",
      "14628    Thank you      Customer Relations will review ...\n",
      "14629     How do I change my flight if the phone system...\n",
      "14630                                       Thanks  He is \n",
      "14631     thx for nothing on getting us out of the coun...\n",
      "14632        George  that doesn t look good  Please fol...\n",
      "14633     my flight was Cancelled Flightled  leaving to...\n",
      "14634                        right on cue with the delays \n",
      "14635     thank you we got on a different flight to Chi...\n",
      "14636     leaving over    minutes Late Flight  No warni...\n",
      "14637      Please bring American Airlines to #BlackBerry  \n",
      "14638     you have my money  you change my flight  and ...\n",
      "14639     we have   ppl so we need   know how many seat...\n",
      "Name: tidy_tweet, Length: 14640, dtype: object\n"
     ]
    }
   ],
   "source": [
    "print(combi[tidy_tweet])"
   ]
  },
  {
   "cell_type": "code",
   "execution_count": 150,
   "metadata": {},
   "outputs": [],
   "source": [
    "# remove special characters, numbers, punctuations\n",
    "combi['tidy_tweet'] = combi['tidy_tweet'].str.replace(\"[^a-zA-Z#]\", \" \")\n"
   ]
  },
  {
   "cell_type": "code",
   "execution_count": 154,
   "metadata": {},
   "outputs": [
    {
     "name": "stdout",
     "output_type": "stream",
     "text": [
      "0                                              What  said \n",
      "1         plus you ve added commercials to the experien...\n",
      "2         I didn t today    Must mean I need to take an...\n",
      "3         it s really aggressive to blast obnoxious  en...\n",
      "4                 and it s a really big bad thing about it\n",
      "5         seriously would pay     a flight for seats th...\n",
      "6         yes  nearly every time I fly VX this  ear wor...\n",
      "7         Really missed a prime opportunity for Men Wit...\n",
      "8                         Well  I didn t but NOW I DO    D\n",
      "9         it was amazing  and arrived an hour early  Yo...\n",
      "10        did you know that suicide is the second leadi...\n",
      "11        I  lt   pretty graphics  so much better than ...\n",
      "12        This is such a great deal  Already thinking a...\n",
      "13         I m flying your #fabulous #Seductive skies a...\n",
      "14                                                 Thanks \n",
      "15                          SFO PDX schedule is still MIA \n",
      "16        So excited for my first cross country flight ...\n",
      "17         I flew from NYC to SFO last week and couldn ...\n",
      "18                                       I    flying      \n",
      "19        you know what would be amazingly awesome  BOS...\n",
      "20        why are your first fares in May over three ti...\n",
      "21             I love this graphic  http   t co UT GrRwAaA\n",
      "22        I love the hipster innovation  You are a feel...\n",
      "23        will you be making BOS gt LAS non stop perman...\n",
      "24        you guys messed up my seating   I reserved se...\n",
      "25        status match program   I applied and it s bee...\n",
      "26        What happened   ur vegan food options   At le...\n",
      "27        do you miss me  Don t worry we ll be together...\n",
      "28        amazing to me that we can t get any cold air ...\n",
      "29        LAX to EWR   Middle seat on a red eye  Such a...\n",
      "                               ...                        \n",
      "14610     I understand the weather issue but you can t ...\n",
      "14611     guarantee no retribution  If so  I d be glad ...\n",
      "14612     a friend is having flight Cancelled Flightlat...\n",
      "14613     I used the  call back  feature with an operat...\n",
      "14614     I need to be at work tomorrow at  am  therefo...\n",
      "14615      ugh Dump us in dfw w no luggage then Cancell...\n",
      "14616     Cancelled Flights my flight  doesn t send an ...\n",
      "14617                           DMing you now  Big thanks \n",
      "14618          is overweight so you pull   dozen passen...\n",
      "14619     I love your company and your staff is amazing...\n",
      "14620     I wait    hrs for CS to call me back re why  ...\n",
      "14621     I ve been on hold for    mins about my Cancel...\n",
      "14622    I just need a place to sleep when I land witho...\n",
      "14623     Love the new planes for the JFK LAX run   May...\n",
      "14624     Call me Chairman  or call me Emerald  After w...\n",
      "14625     Flight     was great  Fantastic cabin crew  A...\n",
      "14626     Flight     NYC Buenos Aires has been delay si...\n",
      "14627     Flight Cancelled Flightled  can t go home unt...\n",
      "14628    Thank you      Customer Relations will review ...\n",
      "14629     How do I change my flight if the phone system...\n",
      "14630                                       Thanks  He is \n",
      "14631     thx for nothing on getting us out of the coun...\n",
      "14632        George  that doesn t look good  Please fol...\n",
      "14633     my flight was Cancelled Flightled  leaving to...\n",
      "14634                        right on cue with the delays \n",
      "14635     thank you we got on a different flight to Chi...\n",
      "14636     leaving over    minutes Late Flight  No warni...\n",
      "14637      Please bring American Airlines to #BlackBerry  \n",
      "14638     you have my money  you change my flight  and ...\n",
      "14639     we have   ppl so we need   know how many seat...\n",
      "Name: tidy_tweet, Length: 14640, dtype: object\n"
     ]
    }
   ],
   "source": [
    "print(combi[tidy_tweet])"
   ]
  },
  {
   "cell_type": "code",
   "execution_count": 155,
   "metadata": {},
   "outputs": [],
   "source": [
    "combi['tidy_tweet'] = combi['tidy_tweet'].apply(lambda x: print(combi[tidy_tweet])' '.join([w for w in x.split() if len(w)>3]))"
   ]
  },
  {
   "cell_type": "code",
   "execution_count": 156,
   "metadata": {},
   "outputs": [
    {
     "name": "stdout",
     "output_type": "stream",
     "text": [
      "0                                                What said\n",
      "1                  plus added commercials experience tacky\n",
      "2              didn today Must mean need take another trip\n",
      "3        really aggressive blast obnoxious entertainmen...\n",
      "4                                       really thing about\n",
      "5        seriously would flight seats that didn have th...\n",
      "6                         nearly every time this worm away\n",
      "7        Really missed prime opportunity Without Hats p...\n",
      "8                                                Well didn\n",
      "9                          amazing arrived hour early good\n",
      "10       know that suicide second leading cause death a...\n",
      "11       pretty graphics much better than minimal icono...\n",
      "12       This such great deal Already thinking about tr...\n",
      "13       flying your #fabulous #Seductive skies again t...\n",
      "14                                                  Thanks\n",
      "15                                          schedule still\n",
      "16       excited first cross country flight heard nothi...\n",
      "17       flew from last week couldn fully seat large ge...\n",
      "18                                                  flying\n",
      "19       know what would amazingly awesome PLEASE want ...\n",
      "20       your first fares over three times more than ot...\n",
      "21                          love this graphic http GrRwAaA\n",
      "22                 love hipster innovation feel good brand\n",
      "23               will making stop permanently anytime soon\n",
      "24       guys messed seating reserved seating with frie...\n",
      "25       status match program applied been three weeks ...\n",
      "26       What happened vegan food options least site kn...\n",
      "27                           miss worry together very soon\n",
      "28       amazing that cold from vents #noair #worstflig...\n",
      "29       Middle seat Such noob maneuver #sendambien #an...\n",
      "                               ...                        \n",
      "14610    understand weather issue expect passengers wai...\n",
      "14611                     guarantee retribution glad share\n",
      "14612    friend having flight Cancelled Flightlations A...\n",
      "14613    used call back feature with operator regarding...\n",
      "14614    need work tomorrow therefore that doesn help D...\n",
      "14615    Dump luggage then Cancelled Flight flight more...\n",
      "14616    Cancelled Flights flight doesn send email text...\n",
      "14617                                         DMing thanks\n",
      "14618    overweight pull dozen passengers luggage Serio...\n",
      "14619    love your company your staff amazing They just...\n",
      "14620    wait call back cxld protection they hang minut...\n",
      "14621    been hold mins about Cancelled Flighted intern...\n",
      "14622    just need place sleep when land without accomm...\n",
      "14623    Love planes Maybe will where amenities functio...\n",
      "14624    Call Chairman call Emerald After what today ca...\n",
      "14625    Flight great Fantastic cabin crew landing #tha...\n",
      "14626    Flight Buenos Aires been delay since yesterday...\n",
      "14627    Flight Cancelled Flightled home until tomorrow...\n",
      "14628    Thank Customer Relations will review your conc...\n",
      "14629    change flight phone system keeps telling that ...\n",
      "14630                                               Thanks\n",
      "14631    nothing getting country back Broken plane Come...\n",
      "14632    George that doesn look good Please follow this...\n",
      "14633    flight Cancelled Flightled leaving tomorrow mo...\n",
      "14634                                    right with delays\n",
      "14635                       thank different flight Chicago\n",
      "14636    leaving over minutes Late Flight warnings comm...\n",
      "14637           Please bring American Airlines #BlackBerry\n",
      "14638    have money change flight answer your phones ot...\n",
      "14639    have need know many seats next flight standby ...\n",
      "Name: tidy_tweet, Length: 14640, dtype: object\n"
     ]
    }
   ],
   "source": [
    "print(combi[tidy_tweet])"
   ]
  },
  {
   "cell_type": "code",
   "execution_count": 157,
   "metadata": {},
   "outputs": [
    {
     "data": {
      "text/plain": [
       "0                                         [What, said]\n",
       "1        [plus, added, commercials, experience, tacky]\n",
       "2    [didn, today, Must, mean, need, take, another,...\n",
       "3    [really, aggressive, blast, obnoxious, enterta...\n",
       "4                               [really, thing, about]\n",
       "Name: tidy_tweet, dtype: object"
      ]
     },
     "execution_count": 157,
     "metadata": {},
     "output_type": "execute_result"
    }
   ],
   "source": [
    "#tokenization\n",
    "tokenized_tweet = combi['tidy_tweet'].apply(lambda x: x.split())\n",
    "tokenized_tweet.head()"
   ]
  },
  {
   "cell_type": "code",
   "execution_count": 158,
   "metadata": {},
   "outputs": [],
   "source": [
    "from nltk.stem.porter import *"
   ]
  },
  {
   "cell_type": "code",
   "execution_count": 159,
   "metadata": {},
   "outputs": [
    {
     "data": {
      "text/plain": [
       "0                                         [what, said]\n",
       "1                   [plu, ad, commerci, experi, tacki]\n",
       "2    [didn, today, must, mean, need, take, anoth, t...\n",
       "3    [realli, aggress, blast, obnoxi, entertain, yo...\n",
       "4                               [realli, thing, about]\n",
       "Name: tidy_tweet, dtype: object"
      ]
     },
     "execution_count": 159,
     "metadata": {},
     "output_type": "execute_result"
    }
   ],
   "source": [
    "stemmer = PorterStemmer()\n",
    "\n",
    "tokenized_tweet = tokenized_tweet.apply(lambda x: [stemmer.stem(i) for i in x]) # stemming\n",
    "tokenized_tweet.head()"
   ]
  },
  {
   "cell_type": "code",
   "execution_count": 160,
   "metadata": {},
   "outputs": [],
   "source": [
    "#joining tokens back \n",
    "for i in range(len(tokenized_tweet)):\n",
    "    tokenized_tweet[i] = ' '.join(tokenized_tweet[i])\n",
    "\n",
    "combi['tidy_tweet'] = tokenized_tweet"
   ]
  },
  {
   "cell_type": "code",
   "execution_count": 161,
   "metadata": {},
   "outputs": [
    {
     "data": {
      "text/plain": [
       "0                                            what said\n",
       "1                         plu ad commerci experi tacki\n",
       "2            didn today must mean need take anoth trip\n",
       "3    realli aggress blast obnoxi entertain your gue...\n",
       "4                                   realli thing about\n",
       "Name: tidy_tweet, dtype: object"
      ]
     },
     "execution_count": 161,
     "metadata": {},
     "output_type": "execute_result"
    }
   ],
   "source": [
    "tokenized_tweet.head()"
   ]
  },
  {
   "cell_type": "code",
   "execution_count": 162,
   "metadata": {},
   "outputs": [
    {
     "name": "stdout",
     "output_type": "stream",
     "text": [
      "0                                                what said\n",
      "1                             plu ad commerci experi tacki\n",
      "2                didn today must mean need take anoth trip\n",
      "3        realli aggress blast obnoxi entertain your gue...\n",
      "4                                       realli thing about\n",
      "5        serious would flight seat that didn have thi p...\n",
      "6                          nearli everi time thi worm away\n",
      "7        realli miss prime opportun without hat parodi ...\n",
      "8                                                well didn\n",
      "9                               amaz arriv hour earli good\n",
      "10       know that suicid second lead caus death among ...\n",
      "11       pretti graphic much better than minim iconographi\n",
      "12       thi such great deal alreadi think about trip h...\n",
      "13       fli your #fabul #seduct sky again take #stress...\n",
      "14                                                   thank\n",
      "15                                           schedul still\n",
      "16       excit first cross countri flight heard noth gr...\n",
      "17       flew from last week couldn fulli seat larg gen...\n",
      "18                                                     fli\n",
      "19       know what would amazingli awesom pleas want wi...\n",
      "20       your first fare over three time more than othe...\n",
      "21                           love thi graphic http grrwaaa\n",
      "22                      love hipster innov feel good brand\n",
      "23                       will make stop perman anytim soon\n",
      "24       guy mess seat reserv seat with friend guy gave...\n",
      "25       statu match program appli been three week call...\n",
      "26       what happen vegan food option least site know ...\n",
      "27                             miss worri togeth veri soon\n",
      "28       amaz that cold from vent #noair #worstflightev...\n",
      "29       middl seat such noob maneuv #sendambien #andch...\n",
      "                               ...                        \n",
      "14610    understand weather issu expect passeng wait ho...\n",
      "14611                         guarante retribut glad share\n",
      "14612    friend have flight cancel flightlat anyway hel...\n",
      "14613    use call back featur with oper regard flight c...\n",
      "14614    need work tomorrow therefor that doesn help di...\n",
      "14615    dump luggag then cancel flight flight more tim...\n",
      "14616    cancel flight flight doesn send email text cal...\n",
      "14617                                          dming thank\n",
      "14618         overweight pull dozen passeng luggag serious\n",
      "14619    love your compani your staff amaz they just ma...\n",
      "14620    wait call back cxld protect they hang minut an...\n",
      "14621    been hold min about cancel flight intern fligh...\n",
      "14622     just need place sleep when land without accommod\n",
      "14623    love plane mayb will where amen function #noch...\n",
      "14624    call chairman call emerald after what today ca...\n",
      "14625    flight great fantast cabin crew land #thankyou...\n",
      "14626    flight bueno air been delay sinc yesterday go ...\n",
      "14627    flight cancel flightl home until tomorrow coul...\n",
      "14628    thank custom relat will review your concern co...\n",
      "14629    chang flight phone system keep tell that repre...\n",
      "14630                                                thank\n",
      "14631        noth get countri back broken plane come anoth\n",
      "14632    georg that doesn look good pleas follow thi li...\n",
      "14633    flight cancel flightl leav tomorrow morn auto ...\n",
      "14634                                     right with delay\n",
      "14635                          thank differ flight chicago\n",
      "14636    leav over minut late flight warn commun until ...\n",
      "14637              pleas bring american airlin #blackberri\n",
      "14638    have money chang flight answer your phone othe...\n",
      "14639    have need know mani seat next flight standbi p...\n",
      "Name: tidy_tweet, Length: 14640, dtype: object\n"
     ]
    }
   ],
   "source": [
    "print(combi[tidy_tweet])"
   ]
  },
  {
   "cell_type": "code",
   "execution_count": 164,
   "metadata": {},
   "outputs": [
    {
     "data": {
      "text/plain": [
       "<matplotlib.axes._subplots.AxesSubplot at 0x178d610de48>"
      ]
     },
     "execution_count": 164,
     "metadata": {},
     "output_type": "execute_result"
    },
    {
     "data": {
      "image/png": "[encoded data removed]",
      "text/plain": [
       "<Figure size 432x288 with 1 Axes>"
      ]
     },
     "metadata": {},
     "output_type": "display_data"
    }
   ],
   "source": [
    "combi.airline_sentiment.value_counts().plot(kind='pie', autopct='%1.0f%%', colors=[\"red\", \"yellow\", \"green\"])"
   ]
  },
  {
   "cell_type": "code",
   "execution_count": 166,
   "metadata": {},
   "outputs": [
    {
     "data": {
      "text/plain": [
       "<matplotlib.axes._subplots.AxesSubplot at 0x178d60ead30>"
      ]
     },
     "execution_count": 166,
     "metadata": {},
     "output_type": "execute_result"
    },
    {
     "data": {
      "image/png": "[encoded data removed]",
      "text/plain": [
       "<Figure size 432x288 with 1 Axes>"
      ]
     },
     "metadata": {
      "needs_background": "light"
     },
     "output_type": "display_data"
    }
   ],
   "source": [
    "import seaborn as sns\n",
    "\n",
    "sns.barplot(x='airline_sentiment', y='airline_sentiment_confidence' , data=combi)"
   ]
  },
  {
   "cell_type": "code",
   "execution_count": 195,
   "metadata": {},
   "outputs": [
    {
     "data": {
      "text/plain": [
       "(14640, 16)"
      ]
     },
     "execution_count": 195,
     "metadata": {},
     "output_type": "execute_result"
    }
   ],
   "source": [
    "combi.shape"
   ]
  },
  {
   "cell_type": "code",
   "execution_count": 190,
   "metadata": {},
   "outputs": [
    {
     "data": {
      "text/plain": [
       "(14640,)"
      ]
     },
     "execution_count": 190,
     "metadata": {},
     "output_type": "execute_result"
    }
   ],
   "source": [
    "combi.airline_sentiment.shape"
   ]
  },
  {
   "cell_type": "code",
   "execution_count": 205,
   "metadata": {},
   "outputs": [],
   "source": [
    "from nltk.corpus import stopwords\n",
    "from sklearn.feature_extraction.text import TfidfVectorizer\n",
    "\n",
    "vectorizer = TfidfVectorizer (max_features=2500, min_df=7, max_df=0.8, stop_words=stopwords.words('english'))\n",
    "processed_features = vectorizer.fit_transform(combi.tidy_tweet).toarray()"
   ]
  },
  {
   "cell_type": "code",
   "execution_count": 221,
   "metadata": {},
   "outputs": [],
   "source": [
    "from sklearn.model_selection import train_test_split\n",
    "\n",
    "\n",
    "X_train, X_test, y_train, y_test = train_test_split(processed_features,combi.airline_sentiment, test_size=0.2, random_state=0)"
   ]
  },
  {
   "cell_type": "code",
   "execution_count": 222,
   "metadata": {},
   "outputs": [
    {
     "name": "stderr",
     "output_type": "stream",
     "text": [
      "C:\\Users\\Sourav\\Anaconda3\\lib\\site-packages\\sklearn\\linear_model\\logistic.py:432: FutureWarning: Default solver will be changed to 'lbfgs' in 0.22. Specify a solver to silence this warning.\n",
      "  FutureWarning)\n",
      "C:\\Users\\Sourav\\Anaconda3\\lib\\site-packages\\sklearn\\linear_model\\logistic.py:469: FutureWarning: Default multi_class will be changed to 'auto' in 0.22. Specify the multi_class option to silence this warning.\n",
      "  \"this warning.\", FutureWarning)\n"
     ]
    }
   ],
   "source": [
    "\n",
    "from sklearn.linear_model import LogisticRegression \n",
    "classifier = LogisticRegression(random_state = 0) \n",
    "classifier.fit(X_train, y_train) \n",
    "\n",
    "y_pred = classifier.predict(X_test) "
   ]
  },
  {
   "cell_type": "code",
   "execution_count": 223,
   "metadata": {},
   "outputs": [
    {
     "name": "stdout",
     "output_type": "stream",
     "text": [
      "Accuracy: 0.7824453551912568\n"
     ]
    }
   ],
   "source": [
    "from sklearn import metrics\n",
    "\n",
    "# Model Accuracy, how often is the classifier correct?\n",
    "print(\"Accuracy:\",metrics.accuracy_score(y_test,y_pred))"
   ]
  },
  {
   "cell_type": "code",
   "execution_count": null,
   "metadata": {},
   "outputs": [],
   "source": []
  }
 ],
 "metadata": {
  "kernelspec": {
   "display_name": "Python 3",
   "language": "python",
   "name": "python3"
  },
  "language_info": {
   "codemirror_mode": {
    "name": "ipython",
    "version": 3
   },
   "file_extension": ".py",
   "mimetype": "text/x-python",
   "name": "python",
   "nbconvert_exporter": "python",
   "pygments_lexer": "ipython3",
   "version": "3.7.3"
  }
 },
 "nbformat": 4,
 "nbformat_minor": 2
}
